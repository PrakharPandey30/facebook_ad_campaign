{
 "cells": [
  {
   "cell_type": "code",
   "execution_count": 19,
   "metadata": {},
   "outputs": [],
   "source": [
    "#  for mathematical operations\n",
    "import numpy as np\n",
    "#  for dataframes operations\n",
    "import pandas as pd\n",
    "# foe data visulations\n",
    "import seaborn as sns\n",
    "import matplotlib.pyplot as plt  "
   ]
  },
  {
   "cell_type": "code",
   "execution_count": 20,
   "metadata": {},
   "outputs": [],
   "source": [
    "# for background style\n",
    "plt.style.use('fivethirtyeight')\n"
   ]
  },
  {
   "cell_type": "code",
   "execution_count": 21,
   "metadata": {},
   "outputs": [],
   "source": [
    "data= pd.read_csv(r'C:\\Users\\Punit\\Downloads\\facebook.csv')"
   ]
  },
  {
   "cell_type": "code",
   "execution_count": 22,
   "metadata": {},
   "outputs": [
    {
     "data": {
      "text/html": [
       "<div>\n",
       "<style scoped>\n",
       "    .dataframe tbody tr th:only-of-type {\n",
       "        vertical-align: middle;\n",
       "    }\n",
       "\n",
       "    .dataframe tbody tr th {\n",
       "        vertical-align: top;\n",
       "    }\n",
       "\n",
       "    .dataframe thead th {\n",
       "        text-align: right;\n",
       "    }\n",
       "</style>\n",
       "<table border=\"1\" class=\"dataframe\">\n",
       "  <thead>\n",
       "    <tr style=\"text-align: right;\">\n",
       "      <th></th>\n",
       "      <th>ad_id</th>\n",
       "      <th>xyz_campaign_id</th>\n",
       "      <th>fb_campaign_id</th>\n",
       "      <th>age</th>\n",
       "      <th>gender</th>\n",
       "      <th>interest</th>\n",
       "      <th>Impressions</th>\n",
       "      <th>Clicks</th>\n",
       "      <th>Spent</th>\n",
       "      <th>Total_Conversion</th>\n",
       "      <th>Approved_Conversion</th>\n",
       "    </tr>\n",
       "  </thead>\n",
       "  <tbody>\n",
       "    <tr>\n",
       "      <th>0</th>\n",
       "      <td>708746</td>\n",
       "      <td>916</td>\n",
       "      <td>103916</td>\n",
       "      <td>30-34</td>\n",
       "      <td>M</td>\n",
       "      <td>15</td>\n",
       "      <td>7350</td>\n",
       "      <td>1</td>\n",
       "      <td>1.43</td>\n",
       "      <td>2</td>\n",
       "      <td>1</td>\n",
       "    </tr>\n",
       "    <tr>\n",
       "      <th>1</th>\n",
       "      <td>708749</td>\n",
       "      <td>916</td>\n",
       "      <td>103917</td>\n",
       "      <td>30-34</td>\n",
       "      <td>M</td>\n",
       "      <td>16</td>\n",
       "      <td>17861</td>\n",
       "      <td>2</td>\n",
       "      <td>1.82</td>\n",
       "      <td>2</td>\n",
       "      <td>0</td>\n",
       "    </tr>\n",
       "    <tr>\n",
       "      <th>2</th>\n",
       "      <td>708771</td>\n",
       "      <td>916</td>\n",
       "      <td>103920</td>\n",
       "      <td>30-34</td>\n",
       "      <td>M</td>\n",
       "      <td>20</td>\n",
       "      <td>693</td>\n",
       "      <td>0</td>\n",
       "      <td>0.00</td>\n",
       "      <td>1</td>\n",
       "      <td>0</td>\n",
       "    </tr>\n",
       "    <tr>\n",
       "      <th>3</th>\n",
       "      <td>708815</td>\n",
       "      <td>916</td>\n",
       "      <td>103928</td>\n",
       "      <td>30-34</td>\n",
       "      <td>M</td>\n",
       "      <td>28</td>\n",
       "      <td>4259</td>\n",
       "      <td>1</td>\n",
       "      <td>1.25</td>\n",
       "      <td>1</td>\n",
       "      <td>0</td>\n",
       "    </tr>\n",
       "    <tr>\n",
       "      <th>4</th>\n",
       "      <td>708818</td>\n",
       "      <td>916</td>\n",
       "      <td>103928</td>\n",
       "      <td>30-34</td>\n",
       "      <td>M</td>\n",
       "      <td>28</td>\n",
       "      <td>4133</td>\n",
       "      <td>1</td>\n",
       "      <td>1.29</td>\n",
       "      <td>1</td>\n",
       "      <td>1</td>\n",
       "    </tr>\n",
       "  </tbody>\n",
       "</table>\n",
       "</div>"
      ],
      "text/plain": [
       "    ad_id  xyz_campaign_id  fb_campaign_id    age gender  interest  \\\n",
       "0  708746              916          103916  30-34      M        15   \n",
       "1  708749              916          103917  30-34      M        16   \n",
       "2  708771              916          103920  30-34      M        20   \n",
       "3  708815              916          103928  30-34      M        28   \n",
       "4  708818              916          103928  30-34      M        28   \n",
       "\n",
       "   Impressions  Clicks  Spent  Total_Conversion  Approved_Conversion  \n",
       "0         7350       1   1.43                 2                    1  \n",
       "1        17861       2   1.82                 2                    0  \n",
       "2          693       0   0.00                 1                    0  \n",
       "3         4259       1   1.25                 1                    0  \n",
       "4         4133       1   1.29                 1                    1  "
      ]
     },
     "execution_count": 22,
     "metadata": {},
     "output_type": "execute_result"
    }
   ],
   "source": [
    "data.head()"
   ]
  },
  {
   "cell_type": "code",
   "execution_count": 23,
   "metadata": {},
   "outputs": [
    {
     "data": {
      "text/plain": [
       "(1143, 11)"
      ]
     },
     "execution_count": 23,
     "metadata": {},
     "output_type": "execute_result"
    }
   ],
   "source": [
    "data.shape\n",
    "\n",
    "\n",
    "\n",
    "\n"
   ]
  },
  {
   "cell_type": "code",
   "execution_count": 25,
   "metadata": {},
   "outputs": [
    {
     "name": "stdout",
     "output_type": "stream",
     "text": [
      "Number of unique ads: 1143\n",
      "Number of unique campaign: 3\n",
      "Number of unique facebook campaign: 691\n",
      "Number of interested groups: 40\n",
      "NUmber of unique age group; 4\n"
     ]
    }
   ],
   "source": [
    "# lets Analyze the campaigns\n",
    "print('Number of unique ads:',data['ad_id'].nunique())\n",
    "print('Number of unique campaign:',data['xyz_campaign_id'].nunique())\n",
    "print('Number of unique facebook campaign:',data['fb_campaign_id'].nunique())\n",
    "print('Number of interested groups:',data['interest'].nunique())\n",
    "print('NUmber of unique age group;',data['age'].nunique())"
   ]
  },
  {
   "cell_type": "code",
   "execution_count": 26,
   "metadata": {},
   "outputs": [],
   "source": [
    "# as we can see that every ad is having an unique ID sow \n",
    "\n",
    "data= data.drop(['fb_campaign_id'],axis=1)\n"
   ]
  },
  {
   "cell_type": "code",
   "execution_count": 31,
   "metadata": {},
   "outputs": [],
   "source": [
    "data=data.drop(['ad_id'],axis=1)"
   ]
  },
  {
   "cell_type": "code",
   "execution_count": 32,
   "metadata": {},
   "outputs": [
    {
     "data": {
      "text/plain": [
       "Index(['xyz_campaign_id', 'age', 'gender', 'interest', 'Impressions', 'Clicks',\n",
       "       'Spent', 'Total_Conversion', 'Approved_Conversion'],\n",
       "      dtype='object')"
      ]
     },
     "execution_count": 32,
     "metadata": {},
     "output_type": "execute_result"
    }
   ],
   "source": [
    "# lets check the columns in the data after droping  \n",
    "data.columns"
   ]
  },
  {
   "cell_type": "code",
   "execution_count": 33,
   "metadata": {},
   "outputs": [
    {
     "data": {
      "text/plain": [
       "xyz_campaign_id        0\n",
       "age                    0\n",
       "gender                 0\n",
       "interest               0\n",
       "Impressions            0\n",
       "Clicks                 0\n",
       "Spent                  0\n",
       "Total_Conversion       0\n",
       "Approved_Conversion    0\n",
       "dtype: int64"
      ]
     },
     "execution_count": 33,
     "metadata": {},
     "output_type": "execute_result"
    }
   ],
   "source": [
    "# lets check the nulll values in the data\n",
    "data.isnull().sum()\n"
   ]
  },
  {
   "cell_type": "code",
   "execution_count": 35,
   "metadata": {},
   "outputs": [
    {
     "data": {
      "text/plain": [
       "1178    625\n",
       "936     464\n",
       "916      54\n",
       "Name: xyz_campaign_id, dtype: int64"
      ]
     },
     "execution_count": 35,
     "metadata": {},
     "output_type": "execute_result"
    }
   ],
   "source": [
    "#  we can see that there are omly three campaign run by the company \n",
    "# lets check more details about the company\n",
    "data['xyz_campaign_id'].value_counts()"
   ]
  },
  {
   "cell_type": "code",
   "execution_count": 38,
   "metadata": {},
   "outputs": [
    {
     "data": {
      "text/plain": [
       "campaign_c    625\n",
       "campaign_b    464\n",
       "campaign_a     54\n",
       "Name: xyz_campaign_id, dtype: int64"
      ]
     },
     "execution_count": 38,
     "metadata": {},
     "output_type": "execute_result"
    }
   ],
   "source": [
    "# lets replace the name of these campaign\n",
    "data['xyz_campaign_id']=data['xyz_campaign_id'].replace((1178,936,916),('campaign_c','campaign_b','campaign_a'))\n",
    "\n",
    "# lets check the campaign name again\n",
    "data['xyz_campaign_id'].value_counts()\n"
   ]
  },
  {
   "cell_type": "code",
   "execution_count": 41,
   "metadata": {},
   "outputs": [
    {
     "data": {
      "text/html": [
       "<style type=\"text/css\">\n",
       "#T_46d99_row0_col1, #T_46d99_row0_col2, #T_46d99_row1_col3 {\n",
       "  background-color: #e4ff7a;\n",
       "  color: #000000;\n",
       "}\n",
       "#T_46d99_row0_col3 {\n",
       "  background-color: #e9fb68;\n",
       "  color: #000000;\n",
       "}\n",
       "#T_46d99_row1_col1 {\n",
       "  background-color: #e7fd71;\n",
       "  color: #000000;\n",
       "}\n",
       "#T_46d99_row1_col2 {\n",
       "  background-color: #e8fb6b;\n",
       "  color: #000000;\n",
       "}\n",
       "#T_46d99_row2_col1, #T_46d99_row2_col2, #T_46d99_row2_col3 {\n",
       "  background-color: #fc7f00;\n",
       "  color: #f1f1f1;\n",
       "}\n",
       "</style>\n",
       "<table id=\"T_46d99\">\n",
       "  <thead>\n",
       "    <tr>\n",
       "      <th class=\"blank level0\" >&nbsp;</th>\n",
       "      <th id=\"T_46d99_level0_col0\" class=\"col_heading level0 col0\" >campaign</th>\n",
       "      <th id=\"T_46d99_level0_col1\" class=\"col_heading level0 col1\" >Average Visibility</th>\n",
       "      <th id=\"T_46d99_level0_col2\" class=\"col_heading level0 col2\" >Average Expense</th>\n",
       "      <th id=\"T_46d99_level0_col3\" class=\"col_heading level0 col3\" >Average Conversion</th>\n",
       "    </tr>\n",
       "  </thead>\n",
       "  <tbody>\n",
       "    <tr>\n",
       "      <th id=\"T_46d99_level0_row0\" class=\"row_heading level0 row0\" >0</th>\n",
       "      <td id=\"T_46d99_row0_col0\" class=\"data row0 col0\" >campaign_a</td>\n",
       "      <td id=\"T_46d99_row0_col1\" class=\"data row0 col1\" >8943.055556</td>\n",
       "      <td id=\"T_46d99_row0_col2\" class=\"data row0 col2\" >2.772407</td>\n",
       "      <td id=\"T_46d99_row0_col3\" class=\"data row0 col3\" >0.444444</td>\n",
       "    </tr>\n",
       "    <tr>\n",
       "      <th id=\"T_46d99_level0_row1\" class=\"row_heading level0 row1\" >1</th>\n",
       "      <td id=\"T_46d99_row1_col0\" class=\"data row1 col0\" >campaign_b</td>\n",
       "      <td id=\"T_46d99_row1_col1\" class=\"data row1 col1\" >17517.644397</td>\n",
       "      <td id=\"T_46d99_row1_col2\" class=\"data row1 col2\" >6.235711</td>\n",
       "      <td id=\"T_46d99_row1_col3\" class=\"data row1 col3\" >0.394397</td>\n",
       "    </tr>\n",
       "    <tr>\n",
       "      <th id=\"T_46d99_level0_row2\" class=\"row_heading level0 row2\" >2</th>\n",
       "      <td id=\"T_46d99_row2_col0\" class=\"data row2 col0\" >campaign_c</td>\n",
       "      <td id=\"T_46d99_row2_col1\" class=\"data row2 col1\" >327717.945600</td>\n",
       "      <td id=\"T_46d99_row2_col2\" class=\"data row2 col2\" >89.059440</td>\n",
       "      <td id=\"T_46d99_row2_col3\" class=\"data row2 col3\" >1.395200</td>\n",
       "    </tr>\n",
       "  </tbody>\n",
       "</table>\n"
      ],
      "text/plain": [
       "<pandas.io.formats.style.Styler at 0x14d6974b160>"
      ]
     },
     "execution_count": 41,
     "metadata": {},
     "output_type": "execute_result"
    }
   ],
   "source": [
    "# lets compare the converstion ,Expense and visibility amoun the Campaigns\n",
    "data[['xyz_campaign_id','Impressions','Spent','Approved_Conversion']].groupby(['xyz_campaign_id'],as_index = False).agg('mean').rename(columns={'xyz_campaign_id': 'campaign','Approved_Conversion':'Average Conversion','Spent': 'Average Expense','Impressions':'Average Visibility'}).style.background_gradient(cmap='Wistia')"
   ]
  },
  {
   "cell_type": "code",
   "execution_count": 49,
   "metadata": {},
   "outputs": [],
   "source": [
    "# Performing Feature Engineering to undersatnd the campaign in detail\n",
    "# lets create a column to understand CTR\n",
    "data['Click_Through_Rate']=((data['Clicks']/data[\"Impressions\"])*100)\n",
    "\n",
    "# Lets create a column to understand Conversion Rate\n",
    "data['CostPerClick']=((data['Spent']/data['Clicks'])*100)\n",
    "\n",
    "# lets create a column to understand converstuion rate\n",
    "\n",
    "data['ConverstionRate']=((data['Approved_Conversion']/data['Total_Conversion'])*100)\n",
    "\n",
    "# lets create a column to understand the cost per converstion\n",
    "data['CostPerConverstion']=((data['Spent']/data['Approved_Conversion'])*100)"
   ]
  },
  {
   "cell_type": "code",
   "execution_count": 50,
   "metadata": {},
   "outputs": [],
   "source": [
    "# lets add some more Features to undersatnd the return on investment also kmow as ROAS(return on AD Spend )\n",
    "# lets calculate the converstion value,lets Assume that the value of sales if 100 dolars\n",
    "data['ConverstionValue']= data['Approved_Conversion']*100\n",
    "\n",
    "# lets calculte the ROAS which is the target value for us \n",
    "data['ROAS']=round((data['ConverstionValue']/data['Spent']))\n",
    "#\n",
    "# lets calculate CPM to understand the Brand AWarness from campaigns\n",
    "data['CostPerMile']=round((data['Spent']/data['Impressions'])*1000,2)"
   ]
  },
  {
   "cell_type": "code",
   "execution_count": 51,
   "metadata": {},
   "outputs": [
    {
     "name": "stdout",
     "output_type": "stream",
     "text": [
      "Shape of the data after removing all the unnecessary data (513, 17)\n"
     ]
    }
   ],
   "source": [
    "# lets remove all the recods where we have any nan values of infinitty values\n",
    "\n",
    "data= data.replace([np.inf,-np.inf],np.nan).dropna(axis = 0)\n",
    "\n",
    "# lets check the shape of the data after revoming all the unnecessary records\n",
    "print('Shape of the data after removing all the unnecessary data',data.shape)"
   ]
  },
  {
   "cell_type": "code",
   "execution_count": 55,
   "metadata": {},
   "outputs": [
    {
     "data": {
      "text/html": [
       "<style type=\"text/css\">\n",
       "#T_4ac8d_row0_col1, #T_4ac8d_row0_col6, #T_4ac8d_row1_col5, #T_4ac8d_row2_col2, #T_4ac8d_row2_col3, #T_4ac8d_row2_col4 {\n",
       "  background-color: #fc7f00;\n",
       "  color: #f1f1f1;\n",
       "}\n",
       "#T_4ac8d_row0_col2, #T_4ac8d_row0_col3, #T_4ac8d_row0_col4, #T_4ac8d_row2_col1, #T_4ac8d_row2_col5, #T_4ac8d_row2_col6 {\n",
       "  background-color: #e4ff7a;\n",
       "  color: #000000;\n",
       "}\n",
       "#T_4ac8d_row0_col5, #T_4ac8d_row1_col6 {\n",
       "  background-color: #fd8c00;\n",
       "  color: #f1f1f1;\n",
       "}\n",
       "#T_4ac8d_row1_col1 {\n",
       "  background-color: #fd8900;\n",
       "  color: #f1f1f1;\n",
       "}\n",
       "#T_4ac8d_row1_col2, #T_4ac8d_row1_col3 {\n",
       "  background-color: #f3f245;\n",
       "  color: #000000;\n",
       "}\n",
       "#T_4ac8d_row1_col4 {\n",
       "  background-color: #e8fb6b;\n",
       "  color: #000000;\n",
       "}\n",
       "</style>\n",
       "<table id=\"T_4ac8d\">\n",
       "  <thead>\n",
       "    <tr>\n",
       "      <th class=\"blank level0\" >&nbsp;</th>\n",
       "      <th id=\"T_4ac8d_level0_col0\" class=\"col_heading level0 col0\" >Campaign</th>\n",
       "      <th id=\"T_4ac8d_level0_col1\" class=\"col_heading level0 col1\" >Average CTR</th>\n",
       "      <th id=\"T_4ac8d_level0_col2\" class=\"col_heading level0 col2\" >Average ConverstionRate</th>\n",
       "      <th id=\"T_4ac8d_level0_col3\" class=\"col_heading level0 col3\" >Average Cost/Click</th>\n",
       "      <th id=\"T_4ac8d_level0_col4\" class=\"col_heading level0 col4\" >ConverstionValue</th>\n",
       "      <th id=\"T_4ac8d_level0_col5\" class=\"col_heading level0 col5\" >ROAS</th>\n",
       "      <th id=\"T_4ac8d_level0_col6\" class=\"col_heading level0 col6\" >CostPerMile</th>\n",
       "    </tr>\n",
       "  </thead>\n",
       "  <tbody>\n",
       "    <tr>\n",
       "      <th id=\"T_4ac8d_level0_row0\" class=\"row_heading level0 row0\" >0</th>\n",
       "      <td id=\"T_4ac8d_row0_col0\" class=\"data row0 col0\" >campaign_a</td>\n",
       "      <td id=\"T_4ac8d_row0_col1\" class=\"data row0 col1\" >0.027162</td>\n",
       "      <td id=\"T_4ac8d_row0_col2\" class=\"data row0 col2\" >133.946428</td>\n",
       "      <td id=\"T_4ac8d_row0_col3\" class=\"data row0 col3\" >133.946428</td>\n",
       "      <td id=\"T_4ac8d_row0_col4\" class=\"data row0 col4\" >100.000000</td>\n",
       "      <td id=\"T_4ac8d_row0_col5\" class=\"data row0 col5\" >42.625000</td>\n",
       "      <td id=\"T_4ac8d_row0_col6\" class=\"data row0 col6\" >0.371250</td>\n",
       "    </tr>\n",
       "    <tr>\n",
       "      <th id=\"T_4ac8d_level0_row1\" class=\"row_heading level0 row1\" >1</th>\n",
       "      <td id=\"T_4ac8d_row1_col0\" class=\"data row1 col0\" >campaign_b</td>\n",
       "      <td id=\"T_4ac8d_row1_col1\" class=\"data row1 col1\" >0.026293</td>\n",
       "      <td id=\"T_4ac8d_row1_col2\" class=\"data row1 col2\" >137.292801</td>\n",
       "      <td id=\"T_4ac8d_row1_col3\" class=\"data row1 col3\" >137.292801</td>\n",
       "      <td id=\"T_4ac8d_row1_col4\" class=\"data row1 col4\" >105.357143</td>\n",
       "      <td id=\"T_4ac8d_row1_col5\" class=\"data row1 col5\" >47.008929</td>\n",
       "      <td id=\"T_4ac8d_row1_col6\" class=\"data row1 col6\" >0.359732</td>\n",
       "    </tr>\n",
       "    <tr>\n",
       "      <th id=\"T_4ac8d_level0_row2\" class=\"row_heading level0 row2\" >2</th>\n",
       "      <td id=\"T_4ac8d_row2_col0\" class=\"data row2 col0\" >campaign_c</td>\n",
       "      <td id=\"T_4ac8d_row2_col1\" class=\"data row2 col1\" >0.016359</td>\n",
       "      <td id=\"T_4ac8d_row2_col2\" class=\"data row2 col2\" >158.342521</td>\n",
       "      <td id=\"T_4ac8d_row2_col3\" class=\"data row2 col3\" >158.342521</td>\n",
       "      <td id=\"T_4ac8d_row2_col4\" class=\"data row2 col4\" >225.714286</td>\n",
       "      <td id=\"T_4ac8d_row2_col5\" class=\"data row2 col5\" >5.231169</td>\n",
       "      <td id=\"T_4ac8d_row2_col6\" class=\"data row2 col6\" >0.254000</td>\n",
       "    </tr>\n",
       "  </tbody>\n",
       "</table>\n"
      ],
      "text/plain": [
       "<pandas.io.formats.style.Styler at 0x14d7097b7c0>"
      ]
     },
     "execution_count": 55,
     "metadata": {},
     "output_type": "execute_result"
    }
   ],
   "source": [
    "# lets compare the campaign based on the new features created \n",
    "data[['xyz_campaign_id','Click_Through_Rate','ConversionRate','CostPerClick','ConverstionValue','ROAS','CostPerMile']].groupby(['xyz_campaign_id'], as_index = False).agg(\"mean\").rename(columns={'Click_Through_Rate':'Average CTR','xyz_campaign_id':'Campaign','CostPerClick':'Average Cost/Click','ConversionRate':'Average ConverstionRate'}).style.background_gradient(cmap='Wistia')"
   ]
  },
  {
   "cell_type": "code",
   "execution_count": 66,
   "metadata": {},
   "outputs": [
    {
     "data": {
      "image/png": "[encoded data removed]",
      "text/plain": [
       "<Figure size 1296x576 with 2 Axes>"
      ]
     },
     "metadata": {
      "needs_background": "light"
     },
     "output_type": "display_data"
    }
   ],
   "source": [
    "# lets Compare Campaign with respect to different Groups\n",
    "plt.rcParams['figure.figsize']=(18,8)\n",
    "\n",
    "plt.subplot(1,2,1)\n",
    "sns.barplot(x =  data['gender'],y = data['ROAS'],hue =data['xyz_campaign_id'],palette ='Dark2')\n",
    "plt.xlabel('')\n",
    "\n",
    "plt.subplot(1,2,2)\n",
    "sns.barplot(x=data['age'],y =data['ROAS'],\n",
    "           hue = data['xyz_campaign_id'],\n",
    "            palette='Dark2')\n",
    "plt.xlabel('')\n",
    "\n",
    "plt.suptitle('Impact of gender and age on ROAS',fontsize = 20)\n",
    "plt.show()\n"
   ]
  },
  {
   "cell_type": "code",
   "execution_count": 76,
   "metadata": {},
   "outputs": [
    {
     "data": {
      "image/png": "[encoded data removed]",
      "text/plain": [
       "<Figure size 1800x576 with 1 Axes>"
      ]
     },
     "metadata": {
      "needs_background": "light"
     },
     "output_type": "display_data"
    }
   ],
   "source": [
    "plt.rcParams['figure.figsize']=(25,8)\n",
    "sns.barplot(x= data['ROAS'],y = data['interest'],palette= 'Dark2')\n",
    "plt.xlabel('Impact of interest in different  group of ROAS',fontsize= 12)\n",
    "plt.title('Different Interest Groups listed on the facebook Account of te users',fontsize = 15)\n",
    "plt.show()\n",
    "# plt.xticks(rotation = \"verticel\")\n",
    "            "
   ]
  },
  {
   "cell_type": "code",
   "execution_count": 78,
   "metadata": {},
   "outputs": [
    {
     "data": {
      "text/html": [
       "<style type=\"text/css\">\n",
       "#T_d7f91_row0_col0, #T_d7f91_row0_col1 {\n",
       "  background-color: #ff00ff;\n",
       "  color: #f1f1f1;\n",
       "}\n",
       "#T_d7f91_row1_col0 {\n",
       "  background-color: #10efff;\n",
       "  color: #000000;\n",
       "}\n",
       "#T_d7f91_row1_col1 {\n",
       "  background-color: #2ed1ff;\n",
       "  color: #000000;\n",
       "}\n",
       "#T_d7f91_row2_col0, #T_d7f91_row4_col1 {\n",
       "  background-color: #00ffff;\n",
       "  color: #000000;\n",
       "}\n",
       "#T_d7f91_row2_col1 {\n",
       "  background-color: #1de2ff;\n",
       "  color: #000000;\n",
       "}\n",
       "#T_d7f91_row3_col0 {\n",
       "  background-color: #46b9ff;\n",
       "  color: #000000;\n",
       "}\n",
       "#T_d7f91_row3_col1 {\n",
       "  background-color: #07f8ff;\n",
       "  color: #000000;\n",
       "}\n",
       "#T_d7f91_row4_col0 {\n",
       "  background-color: #41beff;\n",
       "  color: #000000;\n",
       "}\n",
       "</style>\n",
       "<table id=\"T_d7f91\">\n",
       "  <thead>\n",
       "    <tr>\n",
       "      <th class=\"blank level0\" >&nbsp;</th>\n",
       "      <th id=\"T_d7f91_level0_col0\" class=\"col_heading level0 col0\" >interest</th>\n",
       "      <th id=\"T_d7f91_level0_col1\" class=\"col_heading level0 col1\" >ROAS</th>\n",
       "    </tr>\n",
       "  </thead>\n",
       "  <tbody>\n",
       "    <tr>\n",
       "      <th id=\"T_d7f91_level0_row0\" class=\"row_heading level0 row0\" >267</th>\n",
       "      <td id=\"T_d7f91_row0_col0\" class=\"data row0 col0\" >63</td>\n",
       "      <td id=\"T_d7f91_row0_col1\" class=\"data row0 col1\" >556.000000</td>\n",
       "    </tr>\n",
       "    <tr>\n",
       "      <th id=\"T_d7f91_level0_row1\" class=\"row_heading level0 row1\" >215</th>\n",
       "      <td id=\"T_d7f91_row1_col0\" class=\"data row1 col0\" >19</td>\n",
       "      <td id=\"T_d7f91_row1_col1\" class=\"data row1 col1\" >204.000000</td>\n",
       "    </tr>\n",
       "    <tr>\n",
       "      <th id=\"T_d7f91_level0_row2\" class=\"row_heading level0 row2\" >244</th>\n",
       "      <td id=\"T_d7f91_row2_col0\" class=\"data row2 col0\" >16</td>\n",
       "      <td id=\"T_d7f91_row2_col1\" class=\"data row2 col1\" >175.000000</td>\n",
       "    </tr>\n",
       "    <tr>\n",
       "      <th id=\"T_d7f91_level0_row3\" class=\"row_heading level0 row3\" >318</th>\n",
       "      <td id=\"T_d7f91_row3_col0\" class=\"data row3 col0\" >29</td>\n",
       "      <td id=\"T_d7f91_row3_col1\" class=\"data row3 col1\" >139.000000</td>\n",
       "    </tr>\n",
       "    <tr>\n",
       "      <th id=\"T_d7f91_level0_row4\" class=\"row_heading level0 row4\" >484</th>\n",
       "      <td id=\"T_d7f91_row4_col0\" class=\"data row4 col0\" >28</td>\n",
       "      <td id=\"T_d7f91_row4_col1\" class=\"data row4 col1\" >126.000000</td>\n",
       "    </tr>\n",
       "  </tbody>\n",
       "</table>\n"
      ],
      "text/plain": [
       "<pandas.io.formats.style.Styler at 0x14d75e9a710>"
      ]
     },
     "execution_count": 78,
     "metadata": {},
     "output_type": "execute_result"
    }
   ],
   "source": [
    "# lets find out the intyerset groups which have the highest ROas\n",
    "data[['interest','ROAS']].sort_values(by = 'ROAS',ascending = False).head(5).style.background_gradient(cmap = 'cool')"
   ]
  },
  {
   "cell_type": "code",
   "execution_count": 86,
   "metadata": {},
   "outputs": [
    {
     "data": {
      "image/png": "[encoded data removed]",
      "text/plain": [
       "<Figure size 1080x504 with 1 Axes>"
      ]
     },
     "metadata": {
      "needs_background": "light"
     },
     "output_type": "display_data"
    }
   ],
   "source": [
    "plt.rcParams['figure.figsize']= (15,7)\n",
    "sns.boxplot (x= data['xyz_campaign_id'], y= data['CostPerMile'],palette= 'winter')\n",
    "plt.xlabel('CostPerMile',fontsize= 15)\n",
    "plt.title('Campaigv vs Brand Awareness',fontsize= 17)\n",
    "plt.show()"
   ]
  },
  {
   "cell_type": "code",
   "execution_count": 89,
   "metadata": {},
   "outputs": [
    {
     "data": {
      "image/png": "[encoded data removed]",
      "text/plain": [
       "<Figure size 1080x504 with 1 Axes>"
      ]
     },
     "metadata": {
      "needs_background": "light"
     },
     "output_type": "display_data"
    }
   ],
   "source": [
    "plt.rcParams['figure.figsize']= (15,7)\n",
    "sns.barplot (x= data['age'], y= data['CostPerMile'], hue = data['gender'],palette= 'winter')\n",
    "plt.xlabel('Age Group',fontsize= 15)\n",
    "plt.title('Analyzing the Group to focus on brands Awarness',fontsize= 17)\n",
    "plt.show()"
   ]
  },
  {
   "cell_type": "code",
   "execution_count": 94,
   "metadata": {},
   "outputs": [
    {
     "ename": "ValueError",
     "evalue": "array length 1 does not match index length 513",
     "output_type": "error",
     "traceback": [
      "\u001b[1;31m---------------------------------------------------------------------------\u001b[0m",
      "\u001b[1;31mValueError\u001b[0m                                Traceback (most recent call last)",
      "\u001b[1;32mc:\\Users\\Punit\\Documents\\PyWorkspace\\venv\\project_startup_dig2\\dig_proj3_facebook_.ipynb Cell 23\u001b[0m in \u001b[0;36m<module>\u001b[1;34m\u001b[0m\n\u001b[0;32m      <a href='vscode-notebook-cell:/c%3A/Users/Punit/Documents/PyWorkspace/venv/project_startup_dig2/dig_proj3_facebook_.ipynb#X35sZmlsZQ%3D%3D?line=0'>1</a>\u001b[0m plt\u001b[39m.\u001b[39mrcParams[\u001b[39m'\u001b[39m\u001b[39mfigure.figsize\u001b[39m\u001b[39m'\u001b[39m]\u001b[39m=\u001b[39m(\u001b[39m15\u001b[39m,\u001b[39m8\u001b[39m)\n\u001b[1;32m----> <a href='vscode-notebook-cell:/c%3A/Users/Punit/Documents/PyWorkspace/venv/project_startup_dig2/dig_proj3_facebook_.ipynb#X35sZmlsZQ%3D%3D?line=1'>2</a>\u001b[0m sns\u001b[39m.\u001b[39;49mscatterplot(y\u001b[39m=\u001b[39;49m data[\u001b[39m'\u001b[39;49m\u001b[39mImpressions\u001b[39;49m\u001b[39m'\u001b[39;49m],x\u001b[39m=\u001b[39;49m [\u001b[39m'\u001b[39;49m\u001b[39mClick\u001b[39;49m\u001b[39m'\u001b[39;49m],color \u001b[39m=\u001b[39;49m \u001b[39m'\u001b[39;49m\u001b[39mblack\u001b[39;49m\u001b[39m'\u001b[39;49m)\n\u001b[0;32m      <a href='vscode-notebook-cell:/c%3A/Users/Punit/Documents/PyWorkspace/venv/project_startup_dig2/dig_proj3_facebook_.ipynb#X35sZmlsZQ%3D%3D?line=2'>3</a>\u001b[0m plt\u001b[39m.\u001b[39mtitle(\u001b[39m'\u001b[39m\u001b[39mRelationship between Clicks and Impression \u001b[39m\u001b[39m'\u001b[39m,fontsize\u001b[39m=\u001b[39m \u001b[39m12\u001b[39m)\n\u001b[0;32m      <a href='vscode-notebook-cell:/c%3A/Users/Punit/Documents/PyWorkspace/venv/project_startup_dig2/dig_proj3_facebook_.ipynb#X35sZmlsZQ%3D%3D?line=3'>4</a>\u001b[0m plt\u001b[39m.\u001b[39mshow()\n",
      "File \u001b[1;32mc:\\Users\\Punit\\AppData\\Local\\Programs\\Python\\Python310\\lib\\site-packages\\seaborn\\relational.py:742\u001b[0m, in \u001b[0;36mscatterplot\u001b[1;34m(data, x, y, hue, size, style, palette, hue_order, hue_norm, sizes, size_order, size_norm, markers, style_order, legend, ax, **kwargs)\u001b[0m\n\u001b[0;32m    732\u001b[0m \u001b[39mdef\u001b[39;00m \u001b[39mscatterplot\u001b[39m(\n\u001b[0;32m    733\u001b[0m     data\u001b[39m=\u001b[39m\u001b[39mNone\u001b[39;00m, \u001b[39m*\u001b[39m,\n\u001b[0;32m    734\u001b[0m     x\u001b[39m=\u001b[39m\u001b[39mNone\u001b[39;00m, y\u001b[39m=\u001b[39m\u001b[39mNone\u001b[39;00m, hue\u001b[39m=\u001b[39m\u001b[39mNone\u001b[39;00m, size\u001b[39m=\u001b[39m\u001b[39mNone\u001b[39;00m, style\u001b[39m=\u001b[39m\u001b[39mNone\u001b[39;00m,\n\u001b[1;32m   (...)\u001b[0m\n\u001b[0;32m    738\u001b[0m     \u001b[39m*\u001b[39m\u001b[39m*\u001b[39mkwargs\n\u001b[0;32m    739\u001b[0m ):\n\u001b[0;32m    741\u001b[0m     variables \u001b[39m=\u001b[39m _ScatterPlotter\u001b[39m.\u001b[39mget_semantics(\u001b[39mlocals\u001b[39m())\n\u001b[1;32m--> 742\u001b[0m     p \u001b[39m=\u001b[39m _ScatterPlotter(data\u001b[39m=\u001b[39;49mdata, variables\u001b[39m=\u001b[39;49mvariables, legend\u001b[39m=\u001b[39;49mlegend)\n\u001b[0;32m    744\u001b[0m     p\u001b[39m.\u001b[39mmap_hue(palette\u001b[39m=\u001b[39mpalette, order\u001b[39m=\u001b[39mhue_order, norm\u001b[39m=\u001b[39mhue_norm)\n\u001b[0;32m    745\u001b[0m     p\u001b[39m.\u001b[39mmap_size(sizes\u001b[39m=\u001b[39msizes, order\u001b[39m=\u001b[39msize_order, norm\u001b[39m=\u001b[39msize_norm)\n",
      "File \u001b[1;32mc:\\Users\\Punit\\AppData\\Local\\Programs\\Python\\Python310\\lib\\site-packages\\seaborn\\relational.py:538\u001b[0m, in \u001b[0;36m_ScatterPlotter.__init__\u001b[1;34m(self, data, variables, legend)\u001b[0m\n\u001b[0;32m    529\u001b[0m \u001b[39mdef\u001b[39;00m \u001b[39m__init__\u001b[39m(\u001b[39mself\u001b[39m, \u001b[39m*\u001b[39m, data\u001b[39m=\u001b[39m\u001b[39mNone\u001b[39;00m, variables\u001b[39m=\u001b[39m{}, legend\u001b[39m=\u001b[39m\u001b[39mNone\u001b[39;00m):\n\u001b[0;32m    530\u001b[0m \n\u001b[0;32m    531\u001b[0m     \u001b[39m# TODO this is messy, we want the mapping to be agnostic about\u001b[39;00m\n\u001b[0;32m    532\u001b[0m     \u001b[39m# the kind of plot to draw, but for the time being we need to set\u001b[39;00m\n\u001b[0;32m    533\u001b[0m     \u001b[39m# this information so the SizeMapping can use it\u001b[39;00m\n\u001b[0;32m    534\u001b[0m     \u001b[39mself\u001b[39m\u001b[39m.\u001b[39m_default_size_range \u001b[39m=\u001b[39m (\n\u001b[0;32m    535\u001b[0m         np\u001b[39m.\u001b[39mr_[\u001b[39m.5\u001b[39m, \u001b[39m2\u001b[39m] \u001b[39m*\u001b[39m np\u001b[39m.\u001b[39msquare(mpl\u001b[39m.\u001b[39mrcParams[\u001b[39m\"\u001b[39m\u001b[39mlines.markersize\u001b[39m\u001b[39m\"\u001b[39m])\n\u001b[0;32m    536\u001b[0m     )\n\u001b[1;32m--> 538\u001b[0m     \u001b[39msuper\u001b[39;49m()\u001b[39m.\u001b[39;49m\u001b[39m__init__\u001b[39;49m(data\u001b[39m=\u001b[39;49mdata, variables\u001b[39m=\u001b[39;49mvariables)\n\u001b[0;32m    540\u001b[0m     \u001b[39mself\u001b[39m\u001b[39m.\u001b[39mlegend \u001b[39m=\u001b[39m legend\n",
      "File \u001b[1;32mc:\\Users\\Punit\\AppData\\Local\\Programs\\Python\\Python310\\lib\\site-packages\\seaborn\\_oldcore.py:640\u001b[0m, in \u001b[0;36mVectorPlotter.__init__\u001b[1;34m(self, data, variables)\u001b[0m\n\u001b[0;32m    635\u001b[0m \u001b[39m# var_ordered is relevant only for categorical axis variables, and may\u001b[39;00m\n\u001b[0;32m    636\u001b[0m \u001b[39m# be better handled by an internal axis information object that tracks\u001b[39;00m\n\u001b[0;32m    637\u001b[0m \u001b[39m# such information and is set up by the scale_* methods. The analogous\u001b[39;00m\n\u001b[0;32m    638\u001b[0m \u001b[39m# information for numeric axes would be information about log scales.\u001b[39;00m\n\u001b[0;32m    639\u001b[0m \u001b[39mself\u001b[39m\u001b[39m.\u001b[39m_var_ordered \u001b[39m=\u001b[39m {\u001b[39m\"\u001b[39m\u001b[39mx\u001b[39m\u001b[39m\"\u001b[39m: \u001b[39mFalse\u001b[39;00m, \u001b[39m\"\u001b[39m\u001b[39my\u001b[39m\u001b[39m\"\u001b[39m: \u001b[39mFalse\u001b[39;00m}  \u001b[39m# alt., used DefaultDict\u001b[39;00m\n\u001b[1;32m--> 640\u001b[0m \u001b[39mself\u001b[39;49m\u001b[39m.\u001b[39;49massign_variables(data, variables)\n\u001b[0;32m    642\u001b[0m \u001b[39mfor\u001b[39;00m var, \u001b[39mcls\u001b[39m \u001b[39min\u001b[39;00m \u001b[39mself\u001b[39m\u001b[39m.\u001b[39m_semantic_mappings\u001b[39m.\u001b[39mitems():\n\u001b[0;32m    643\u001b[0m \n\u001b[0;32m    644\u001b[0m     \u001b[39m# Create the mapping function\u001b[39;00m\n\u001b[0;32m    645\u001b[0m     map_func \u001b[39m=\u001b[39m partial(\u001b[39mcls\u001b[39m\u001b[39m.\u001b[39mmap, plotter\u001b[39m=\u001b[39m\u001b[39mself\u001b[39m)\n",
      "File \u001b[1;32mc:\\Users\\Punit\\AppData\\Local\\Programs\\Python\\Python310\\lib\\site-packages\\seaborn\\_oldcore.py:701\u001b[0m, in \u001b[0;36mVectorPlotter.assign_variables\u001b[1;34m(self, data, variables)\u001b[0m\n\u001b[0;32m    699\u001b[0m \u001b[39melse\u001b[39;00m:\n\u001b[0;32m    700\u001b[0m     \u001b[39mself\u001b[39m\u001b[39m.\u001b[39minput_format \u001b[39m=\u001b[39m \u001b[39m\"\u001b[39m\u001b[39mlong\u001b[39m\u001b[39m\"\u001b[39m\n\u001b[1;32m--> 701\u001b[0m     plot_data, variables \u001b[39m=\u001b[39m \u001b[39mself\u001b[39m\u001b[39m.\u001b[39m_assign_variables_longform(\n\u001b[0;32m    702\u001b[0m         data, \u001b[39m*\u001b[39m\u001b[39m*\u001b[39mvariables,\n\u001b[0;32m    703\u001b[0m     )\n\u001b[0;32m    705\u001b[0m \u001b[39mself\u001b[39m\u001b[39m.\u001b[39mplot_data \u001b[39m=\u001b[39m plot_data\n\u001b[0;32m    706\u001b[0m \u001b[39mself\u001b[39m\u001b[39m.\u001b[39mvariables \u001b[39m=\u001b[39m variables\n",
      "File \u001b[1;32mc:\\Users\\Punit\\AppData\\Local\\Programs\\Python\\Python310\\lib\\site-packages\\seaborn\\_oldcore.py:962\u001b[0m, in \u001b[0;36mVectorPlotter._assign_variables_longform\u001b[1;34m(self, data, **kwargs)\u001b[0m\n\u001b[0;32m    958\u001b[0m         variables[key] \u001b[39m=\u001b[39m \u001b[39mgetattr\u001b[39m(val, \u001b[39m\"\u001b[39m\u001b[39mname\u001b[39m\u001b[39m\"\u001b[39m, \u001b[39mNone\u001b[39;00m)\n\u001b[0;32m    960\u001b[0m \u001b[39m# Construct a tidy plot DataFrame. This will convert a number of\u001b[39;00m\n\u001b[0;32m    961\u001b[0m \u001b[39m# types automatically, aligning on index in case of pandas objects\u001b[39;00m\n\u001b[1;32m--> 962\u001b[0m plot_data \u001b[39m=\u001b[39m pd\u001b[39m.\u001b[39;49mDataFrame(plot_data)\n\u001b[0;32m    964\u001b[0m \u001b[39m# Reduce the variables dictionary to fields with valid data\u001b[39;00m\n\u001b[0;32m    965\u001b[0m variables \u001b[39m=\u001b[39m {\n\u001b[0;32m    966\u001b[0m     var: name\n\u001b[0;32m    967\u001b[0m     \u001b[39mfor\u001b[39;00m var, name \u001b[39min\u001b[39;00m variables\u001b[39m.\u001b[39mitems()\n\u001b[0;32m    968\u001b[0m     \u001b[39mif\u001b[39;00m plot_data[var]\u001b[39m.\u001b[39mnotnull()\u001b[39m.\u001b[39many()\n\u001b[0;32m    969\u001b[0m }\n",
      "File \u001b[1;32mc:\\Users\\Punit\\AppData\\Local\\Programs\\Python\\Python310\\lib\\site-packages\\pandas\\core\\frame.py:663\u001b[0m, in \u001b[0;36mDataFrame.__init__\u001b[1;34m(self, data, index, columns, dtype, copy)\u001b[0m\n\u001b[0;32m    657\u001b[0m     mgr \u001b[39m=\u001b[39m \u001b[39mself\u001b[39m\u001b[39m.\u001b[39m_init_mgr(\n\u001b[0;32m    658\u001b[0m         data, axes\u001b[39m=\u001b[39m{\u001b[39m\"\u001b[39m\u001b[39mindex\u001b[39m\u001b[39m\"\u001b[39m: index, \u001b[39m\"\u001b[39m\u001b[39mcolumns\u001b[39m\u001b[39m\"\u001b[39m: columns}, dtype\u001b[39m=\u001b[39mdtype, copy\u001b[39m=\u001b[39mcopy\n\u001b[0;32m    659\u001b[0m     )\n\u001b[0;32m    661\u001b[0m \u001b[39melif\u001b[39;00m \u001b[39misinstance\u001b[39m(data, \u001b[39mdict\u001b[39m):\n\u001b[0;32m    662\u001b[0m     \u001b[39m# GH#38939 de facto copy defaults to False only in non-dict cases\u001b[39;00m\n\u001b[1;32m--> 663\u001b[0m     mgr \u001b[39m=\u001b[39m dict_to_mgr(data, index, columns, dtype\u001b[39m=\u001b[39;49mdtype, copy\u001b[39m=\u001b[39;49mcopy, typ\u001b[39m=\u001b[39;49mmanager)\n\u001b[0;32m    664\u001b[0m \u001b[39melif\u001b[39;00m \u001b[39misinstance\u001b[39m(data, ma\u001b[39m.\u001b[39mMaskedArray):\n\u001b[0;32m    665\u001b[0m     \u001b[39mimport\u001b[39;00m \u001b[39mnumpy\u001b[39;00m\u001b[39m.\u001b[39;00m\u001b[39mma\u001b[39;00m\u001b[39m.\u001b[39;00m\u001b[39mmrecords\u001b[39;00m \u001b[39mas\u001b[39;00m \u001b[39mmrecords\u001b[39;00m\n",
      "File \u001b[1;32mc:\\Users\\Punit\\AppData\\Local\\Programs\\Python\\Python310\\lib\\site-packages\\pandas\\core\\internals\\construction.py:493\u001b[0m, in \u001b[0;36mdict_to_mgr\u001b[1;34m(data, index, columns, dtype, typ, copy)\u001b[0m\n\u001b[0;32m    489\u001b[0m     \u001b[39melse\u001b[39;00m:\n\u001b[0;32m    490\u001b[0m         \u001b[39m# dtype check to exclude e.g. range objects, scalars\u001b[39;00m\n\u001b[0;32m    491\u001b[0m         arrays \u001b[39m=\u001b[39m [x\u001b[39m.\u001b[39mcopy() \u001b[39mif\u001b[39;00m \u001b[39mhasattr\u001b[39m(x, \u001b[39m\"\u001b[39m\u001b[39mdtype\u001b[39m\u001b[39m\"\u001b[39m) \u001b[39melse\u001b[39;00m x \u001b[39mfor\u001b[39;00m x \u001b[39min\u001b[39;00m arrays]\n\u001b[1;32m--> 493\u001b[0m \u001b[39mreturn\u001b[39;00m arrays_to_mgr(arrays, columns, index, dtype\u001b[39m=\u001b[39;49mdtype, typ\u001b[39m=\u001b[39;49mtyp, consolidate\u001b[39m=\u001b[39;49mcopy)\n",
      "File \u001b[1;32mc:\\Users\\Punit\\AppData\\Local\\Programs\\Python\\Python310\\lib\\site-packages\\pandas\\core\\internals\\construction.py:118\u001b[0m, in \u001b[0;36marrays_to_mgr\u001b[1;34m(arrays, columns, index, dtype, verify_integrity, typ, consolidate)\u001b[0m\n\u001b[0;32m    115\u001b[0m \u001b[39mif\u001b[39;00m verify_integrity:\n\u001b[0;32m    116\u001b[0m     \u001b[39m# figure out the index, if necessary\u001b[39;00m\n\u001b[0;32m    117\u001b[0m     \u001b[39mif\u001b[39;00m index \u001b[39mis\u001b[39;00m \u001b[39mNone\u001b[39;00m:\n\u001b[1;32m--> 118\u001b[0m         index \u001b[39m=\u001b[39m _extract_index(arrays)\n\u001b[0;32m    119\u001b[0m     \u001b[39melse\u001b[39;00m:\n\u001b[0;32m    120\u001b[0m         index \u001b[39m=\u001b[39m ensure_index(index)\n",
      "File \u001b[1;32mc:\\Users\\Punit\\AppData\\Local\\Programs\\Python\\Python310\\lib\\site-packages\\pandas\\core\\internals\\construction.py:680\u001b[0m, in \u001b[0;36m_extract_index\u001b[1;34m(data)\u001b[0m\n\u001b[0;32m    675\u001b[0m     \u001b[39mif\u001b[39;00m lengths[\u001b[39m0\u001b[39m] \u001b[39m!=\u001b[39m \u001b[39mlen\u001b[39m(index):\n\u001b[0;32m    676\u001b[0m         msg \u001b[39m=\u001b[39m (\n\u001b[0;32m    677\u001b[0m             \u001b[39mf\u001b[39m\u001b[39m\"\u001b[39m\u001b[39marray length \u001b[39m\u001b[39m{\u001b[39;00mlengths[\u001b[39m0\u001b[39m]\u001b[39m}\u001b[39;00m\u001b[39m does not match index \u001b[39m\u001b[39m\"\u001b[39m\n\u001b[0;32m    678\u001b[0m             \u001b[39mf\u001b[39m\u001b[39m\"\u001b[39m\u001b[39mlength \u001b[39m\u001b[39m{\u001b[39;00m\u001b[39mlen\u001b[39m(index)\u001b[39m}\u001b[39;00m\u001b[39m\"\u001b[39m\n\u001b[0;32m    679\u001b[0m         )\n\u001b[1;32m--> 680\u001b[0m         \u001b[39mraise\u001b[39;00m \u001b[39mValueError\u001b[39;00m(msg)\n\u001b[0;32m    681\u001b[0m \u001b[39melse\u001b[39;00m:\n\u001b[0;32m    682\u001b[0m     index \u001b[39m=\u001b[39m default_index(lengths[\u001b[39m0\u001b[39m])\n",
      "\u001b[1;31mValueError\u001b[0m: array length 1 does not match index length 513"
     ]
    }
   ],
   "source": [
    "plt.rcParams['figure.figsize']=(15,8)\n",
    "sns.scatterplot(y= data['Impressions'],x= ['Click'],color = 'black')\n",
    "plt.title('Relationship between Clicks and Impression ',fontsize= 12)\n",
    "plt.show()\n"
   ]
  },
  {
   "cell_type": "code",
   "execution_count": 100,
   "metadata": {},
   "outputs": [],
   "source": [
    "# lets Categories the clicks and check the impact on impressons\n",
    "# lets create a function to categories the clicks column\n",
    "\n"
   ]
  },
  {
   "cell_type": "code",
   "execution_count": 120,
   "metadata": {},
   "outputs": [
    {
     "data": {
      "text/html": [
       "<style type=\"text/css\">\n",
       "#T_7860b_row0_col0 {\n",
       "  background-color: #e4ff7a;\n",
       "  color: #000000;\n",
       "}\n",
       "#T_7860b_row1_col0 {\n",
       "  background-color: #ffde14;\n",
       "  color: #000000;\n",
       "}\n",
       "#T_7860b_row2_col0 {\n",
       "  background-color: #ffbd00;\n",
       "  color: #000000;\n",
       "}\n",
       "#T_7860b_row3_col0 {\n",
       "  background-color: #fc7f00;\n",
       "  color: #f1f1f1;\n",
       "}\n",
       "</style>\n",
       "<table id=\"T_7860b\">\n",
       "  <thead>\n",
       "    <tr>\n",
       "      <th class=\"blank level0\" >&nbsp;</th>\n",
       "      <th id=\"T_7860b_level0_col0\" class=\"col_heading level0 col0\" >Impressions</th>\n",
       "    </tr>\n",
       "    <tr>\n",
       "      <th class=\"blank level1\" >&nbsp;</th>\n",
       "      <th id=\"T_7860b_level1_col0\" class=\"col_heading level1 col0\" >mean</th>\n",
       "    </tr>\n",
       "    <tr>\n",
       "      <th class=\"index_name level0\" >Clicks</th>\n",
       "      <th class=\"blank col0\" >&nbsp;</th>\n",
       "    </tr>\n",
       "  </thead>\n",
       "  <tbody>\n",
       "    <tr>\n",
       "      <th id=\"T_7860b_level0_row0\" class=\"row_heading level0 row0\" >0-100</th>\n",
       "      <td id=\"T_7860b_row0_col0\" class=\"data row0 col0\" >163307.390777</td>\n",
       "    </tr>\n",
       "    <tr>\n",
       "      <th id=\"T_7860b_level0_row1\" class=\"row_heading level0 row1\" >100-200</th>\n",
       "      <td id=\"T_7860b_row1_col0\" class=\"data row1 col0\" >800683.319444</td>\n",
       "    </tr>\n",
       "    <tr>\n",
       "      <th id=\"T_7860b_level0_row2\" class=\"row_heading level0 row2\" >200-300</th>\n",
       "      <td id=\"T_7860b_row2_col0\" class=\"data row2 col0\" >1203176.360000</td>\n",
       "    </tr>\n",
       "    <tr>\n",
       "      <th id=\"T_7860b_level0_row3\" class=\"row_heading level0 row3\" >300+</th>\n",
       "      <td id=\"T_7860b_row3_col0\" class=\"data row3 col0\" >2229958.250000</td>\n",
       "    </tr>\n",
       "  </tbody>\n",
       "</table>\n"
      ],
      "text/plain": [
       "<pandas.io.formats.style.Styler at 0x14d7923e1a0>"
      ]
     },
     "execution_count": 120,
     "metadata": {},
     "output_type": "execute_result"
    }
   ],
   "source": [
    "def cat(x):\n",
    "   \n",
    "    if x <= 100:\n",
    "        return '0-100'\n",
    "    elif x <= 200:\n",
    "        return '100-200'\n",
    "    elif x <= 300:\n",
    "        return '200-300'\n",
    "    else :\n",
    "        return '300+'\n",
    "    \n",
    "# lets apply the function on click \n",
    "# data['Clicks']= data['Clicks'].apply(cat) \n",
    "\n",
    "# lets understand the impact of impression on clicks \n",
    "data[['Impressions','Clicks' ]].groupby('Clicks').agg(['mean']).style.background_gradient(cmap='Wistia')\n"
   ]
  },
  {
   "cell_type": "code",
   "execution_count": 119,
   "metadata": {},
   "outputs": [
    {
     "data": {
      "text/html": [
       "<div>\n",
       "<style scoped>\n",
       "    .dataframe tbody tr th:only-of-type {\n",
       "        vertical-align: middle;\n",
       "    }\n",
       "\n",
       "    .dataframe tbody tr th {\n",
       "        vertical-align: top;\n",
       "    }\n",
       "\n",
       "    .dataframe thead th {\n",
       "        text-align: right;\n",
       "    }\n",
       "</style>\n",
       "<table border=\"1\" class=\"dataframe\">\n",
       "  <thead>\n",
       "    <tr style=\"text-align: right;\">\n",
       "      <th></th>\n",
       "      <th>xyz_campaign_id</th>\n",
       "      <th>age</th>\n",
       "      <th>gender</th>\n",
       "      <th>interest</th>\n",
       "      <th>Impressions</th>\n",
       "      <th>Clicks</th>\n",
       "      <th>Spent</th>\n",
       "      <th>Total_Conversion</th>\n",
       "      <th>Approved_Conversion</th>\n",
       "      <th>Click_Through_Rate</th>\n",
       "      <th>ConversionRate</th>\n",
       "      <th>ConverstionRate</th>\n",
       "      <th>CostPerConverstion</th>\n",
       "      <th>ConverstionValue</th>\n",
       "      <th>ROAS</th>\n",
       "      <th>CostPerMile</th>\n",
       "      <th>CostPerClick</th>\n",
       "    </tr>\n",
       "  </thead>\n",
       "  <tbody>\n",
       "    <tr>\n",
       "      <th>0</th>\n",
       "      <td>campaign_a</td>\n",
       "      <td>30-34</td>\n",
       "      <td>M</td>\n",
       "      <td>15</td>\n",
       "      <td>7350</td>\n",
       "      <td>0-100</td>\n",
       "      <td>1.43</td>\n",
       "      <td>2</td>\n",
       "      <td>1</td>\n",
       "      <td>0.013605</td>\n",
       "      <td>142.999995</td>\n",
       "      <td>50.0</td>\n",
       "      <td>142.999995</td>\n",
       "      <td>100</td>\n",
       "      <td>70.0</td>\n",
       "      <td>0.19</td>\n",
       "      <td>142.999995</td>\n",
       "    </tr>\n",
       "    <tr>\n",
       "      <th>4</th>\n",
       "      <td>campaign_a</td>\n",
       "      <td>30-34</td>\n",
       "      <td>M</td>\n",
       "      <td>28</td>\n",
       "      <td>4133</td>\n",
       "      <td>0-100</td>\n",
       "      <td>1.29</td>\n",
       "      <td>1</td>\n",
       "      <td>1</td>\n",
       "      <td>0.024195</td>\n",
       "      <td>128.999996</td>\n",
       "      <td>100.0</td>\n",
       "      <td>128.999996</td>\n",
       "      <td>100</td>\n",
       "      <td>78.0</td>\n",
       "      <td>0.31</td>\n",
       "      <td>128.999996</td>\n",
       "    </tr>\n",
       "    <tr>\n",
       "      <th>7</th>\n",
       "      <td>campaign_a</td>\n",
       "      <td>30-34</td>\n",
       "      <td>M</td>\n",
       "      <td>16</td>\n",
       "      <td>10951</td>\n",
       "      <td>0-100</td>\n",
       "      <td>1.27</td>\n",
       "      <td>1</td>\n",
       "      <td>1</td>\n",
       "      <td>0.009132</td>\n",
       "      <td>126.999998</td>\n",
       "      <td>100.0</td>\n",
       "      <td>126.999998</td>\n",
       "      <td>100</td>\n",
       "      <td>79.0</td>\n",
       "      <td>0.12</td>\n",
       "      <td>126.999998</td>\n",
       "    </tr>\n",
       "    <tr>\n",
       "      <th>14</th>\n",
       "      <td>campaign_a</td>\n",
       "      <td>30-34</td>\n",
       "      <td>M</td>\n",
       "      <td>20</td>\n",
       "      <td>14669</td>\n",
       "      <td>0-100</td>\n",
       "      <td>10.28</td>\n",
       "      <td>1</td>\n",
       "      <td>1</td>\n",
       "      <td>0.047720</td>\n",
       "      <td>146.857146</td>\n",
       "      <td>100.0</td>\n",
       "      <td>1028.000021</td>\n",
       "      <td>100</td>\n",
       "      <td>10.0</td>\n",
       "      <td>0.70</td>\n",
       "      <td>146.857146</td>\n",
       "    </tr>\n",
       "    <tr>\n",
       "      <th>19</th>\n",
       "      <td>campaign_a</td>\n",
       "      <td>35-39</td>\n",
       "      <td>M</td>\n",
       "      <td>16</td>\n",
       "      <td>21026</td>\n",
       "      <td>0-100</td>\n",
       "      <td>4.63</td>\n",
       "      <td>2</td>\n",
       "      <td>1</td>\n",
       "      <td>0.019024</td>\n",
       "      <td>115.750003</td>\n",
       "      <td>50.0</td>\n",
       "      <td>463.000011</td>\n",
       "      <td>100</td>\n",
       "      <td>22.0</td>\n",
       "      <td>0.22</td>\n",
       "      <td>115.750003</td>\n",
       "    </tr>\n",
       "  </tbody>\n",
       "</table>\n",
       "</div>"
      ],
      "text/plain": [
       "   xyz_campaign_id    age gender  interest  Impressions Clicks  Spent  \\\n",
       "0       campaign_a  30-34      M        15         7350  0-100   1.43   \n",
       "4       campaign_a  30-34      M        28         4133  0-100   1.29   \n",
       "7       campaign_a  30-34      M        16        10951  0-100   1.27   \n",
       "14      campaign_a  30-34      M        20        14669  0-100  10.28   \n",
       "19      campaign_a  35-39      M        16        21026  0-100   4.63   \n",
       "\n",
       "    Total_Conversion  Approved_Conversion  Click_Through_Rate  ConversionRate  \\\n",
       "0                  2                    1            0.013605      142.999995   \n",
       "4                  1                    1            0.024195      128.999996   \n",
       "7                  1                    1            0.009132      126.999998   \n",
       "14                 1                    1            0.047720      146.857146   \n",
       "19                 2                    1            0.019024      115.750003   \n",
       "\n",
       "    ConverstionRate  CostPerConverstion  ConverstionValue  ROAS  CostPerMile  \\\n",
       "0              50.0          142.999995               100  70.0         0.19   \n",
       "4             100.0          128.999996               100  78.0         0.31   \n",
       "7             100.0          126.999998               100  79.0         0.12   \n",
       "14            100.0         1028.000021               100  10.0         0.70   \n",
       "19             50.0          463.000011               100  22.0         0.22   \n",
       "\n",
       "    CostPerClick  \n",
       "0     142.999995  \n",
       "4     128.999996  \n",
       "7     126.999998  \n",
       "14    146.857146  \n",
       "19    115.750003  "
      ]
     },
     "execution_count": 119,
     "metadata": {},
     "output_type": "execute_result"
    }
   ],
   "source": [
    "data.head()"
   ]
  }
 ],
 "metadata": {
  "kernelspec": {
   "display_name": "Python 3",
   "language": "python",
   "name": "python3"
  },
  "language_info": {
   "codemirror_mode": {
    "name": "ipython",
    "version": 3
   },
   "file_extension": ".py",
   "mimetype": "text/x-python",
   "name": "python",
   "nbconvert_exporter": "python",
   "pygments_lexer": "ipython3",
   "version": "3.10.1"
  },
  "orig_nbformat": 4,
  "vscode": {
   "interpreter": {
    "hash": "9a2dd6c28b9713919f20ffeb5aea2f898b33caf3a9fa010b9fd8ad35385b5dea"
   }
  }
 },
 "nbformat": 4,
 "nbformat_minor": 2
}
